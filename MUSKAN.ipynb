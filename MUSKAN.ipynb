{
 "cells": [
  {
   "cell_type": "code",
   "execution_count": 1,
   "id": "d0a234f6",
   "metadata": {},
   "outputs": [],
   "source": [
    "import numpy as np \n",
    "import pandas as pd \n",
    "from pandas_profiling import ProfileReport\n",
    "import matplotlib.pyplot as plt\n",
    "import math\n",
    "%matplotlib inline\n",
    "import holidays\n",
    "from datetime import date\n",
    "import seaborn as sns"
   ]
  },
  {
   "cell_type": "code",
   "execution_count": 2,
   "id": "7451ef49",
   "metadata": {},
   "outputs": [],
   "source": [
    "#Reading our files\n",
    "ch = pd.read_csv(\"C:/Users/arunk/Downloads/CH4_final_data.csv\",header = 0, parse_dates = False)"
   ]
  },
  {
   "cell_type": "code",
   "execution_count": 3,
   "id": "85b6acaf",
   "metadata": {},
   "outputs": [
    {
     "data": {
      "text/html": [
       "<div>\n",
       "<style scoped>\n",
       "    .dataframe tbody tr th:only-of-type {\n",
       "        vertical-align: middle;\n",
       "    }\n",
       "\n",
       "    .dataframe tbody tr th {\n",
       "        vertical-align: top;\n",
       "    }\n",
       "\n",
       "    .dataframe thead th {\n",
       "        text-align: right;\n",
       "    }\n",
       "</style>\n",
       "<table border=\"1\" class=\"dataframe\">\n",
       "  <thead>\n",
       "    <tr style=\"text-align: right;\">\n",
       "      <th></th>\n",
       "      <th>Year-Month</th>\n",
       "      <th>VALUE</th>\n",
       "      <th>AGRICULTURE</th>\n",
       "      <th>ENERGY</th>\n",
       "      <th>FUGITIVE EMISSION</th>\n",
       "      <th>MANUFATURING</th>\n",
       "      <th>WASTE</th>\n",
       "      <th>ELECTRICITY /HEAT</th>\n",
       "      <th>OTHER FUEL COMBUSTION</th>\n",
       "      <th>BULDING</th>\n",
       "    </tr>\n",
       "  </thead>\n",
       "  <tbody>\n",
       "    <tr>\n",
       "      <th>0</th>\n",
       "      <td>1990-01</td>\n",
       "      <td>47.273</td>\n",
       "      <td>36.430</td>\n",
       "      <td>4.414</td>\n",
       "      <td>1.941</td>\n",
       "      <td>0.061</td>\n",
       "      <td>1.933</td>\n",
       "      <td>0.067</td>\n",
       "      <td>0.027</td>\n",
       "      <td>2.374</td>\n",
       "    </tr>\n",
       "    <tr>\n",
       "      <th>1</th>\n",
       "      <td>1990-02</td>\n",
       "      <td>46.960</td>\n",
       "      <td>36.384</td>\n",
       "      <td>4.394</td>\n",
       "      <td>1.929</td>\n",
       "      <td>0.060</td>\n",
       "      <td>1.919</td>\n",
       "      <td>0.067</td>\n",
       "      <td>0.026</td>\n",
       "      <td>2.375</td>\n",
       "    </tr>\n",
       "    <tr>\n",
       "      <th>2</th>\n",
       "      <td>1990-03</td>\n",
       "      <td>46.972</td>\n",
       "      <td>36.374</td>\n",
       "      <td>4.492</td>\n",
       "      <td>1.920</td>\n",
       "      <td>0.061</td>\n",
       "      <td>1.930</td>\n",
       "      <td>0.067</td>\n",
       "      <td>0.026</td>\n",
       "      <td>2.375</td>\n",
       "    </tr>\n",
       "    <tr>\n",
       "      <th>3</th>\n",
       "      <td>1990-04</td>\n",
       "      <td>46.923</td>\n",
       "      <td>36.202</td>\n",
       "      <td>4.401</td>\n",
       "      <td>1.908</td>\n",
       "      <td>0.061</td>\n",
       "      <td>1.888</td>\n",
       "      <td>0.067</td>\n",
       "      <td>0.028</td>\n",
       "      <td>2.376</td>\n",
       "    </tr>\n",
       "    <tr>\n",
       "      <th>4</th>\n",
       "      <td>1990-05</td>\n",
       "      <td>46.818</td>\n",
       "      <td>36.448</td>\n",
       "      <td>4.466</td>\n",
       "      <td>1.912</td>\n",
       "      <td>0.061</td>\n",
       "      <td>1.923</td>\n",
       "      <td>0.066</td>\n",
       "      <td>0.025</td>\n",
       "      <td>2.382</td>\n",
       "    </tr>\n",
       "    <tr>\n",
       "      <th>5</th>\n",
       "      <td>1990-06</td>\n",
       "      <td>47.318</td>\n",
       "      <td>36.317</td>\n",
       "      <td>4.381</td>\n",
       "      <td>1.939</td>\n",
       "      <td>0.064</td>\n",
       "      <td>1.931</td>\n",
       "      <td>0.067</td>\n",
       "      <td>0.028</td>\n",
       "      <td>2.381</td>\n",
       "    </tr>\n",
       "    <tr>\n",
       "      <th>6</th>\n",
       "      <td>1990-07</td>\n",
       "      <td>46.841</td>\n",
       "      <td>36.210</td>\n",
       "      <td>4.382</td>\n",
       "      <td>1.980</td>\n",
       "      <td>0.060</td>\n",
       "      <td>1.904</td>\n",
       "      <td>0.066</td>\n",
       "      <td>0.028</td>\n",
       "      <td>2.377</td>\n",
       "    </tr>\n",
       "    <tr>\n",
       "      <th>7</th>\n",
       "      <td>1990-08</td>\n",
       "      <td>46.997</td>\n",
       "      <td>36.419</td>\n",
       "      <td>4.427</td>\n",
       "      <td>1.927</td>\n",
       "      <td>0.062</td>\n",
       "      <td>1.894</td>\n",
       "      <td>0.067</td>\n",
       "      <td>0.029</td>\n",
       "      <td>2.373</td>\n",
       "    </tr>\n",
       "    <tr>\n",
       "      <th>8</th>\n",
       "      <td>1990-09</td>\n",
       "      <td>47.035</td>\n",
       "      <td>36.340</td>\n",
       "      <td>4.382</td>\n",
       "      <td>1.977</td>\n",
       "      <td>0.060</td>\n",
       "      <td>1.901</td>\n",
       "      <td>0.067</td>\n",
       "      <td>0.031</td>\n",
       "      <td>2.378</td>\n",
       "    </tr>\n",
       "    <tr>\n",
       "      <th>9</th>\n",
       "      <td>1990-10</td>\n",
       "      <td>47.197</td>\n",
       "      <td>36.319</td>\n",
       "      <td>4.385</td>\n",
       "      <td>1.955</td>\n",
       "      <td>0.061</td>\n",
       "      <td>1.895</td>\n",
       "      <td>0.067</td>\n",
       "      <td>0.028</td>\n",
       "      <td>2.378</td>\n",
       "    </tr>\n",
       "  </tbody>\n",
       "</table>\n",
       "</div>"
      ],
      "text/plain": [
       "  Year-Month   VALUE  AGRICULTURE  ENERGY  FUGITIVE EMISSION  MANUFATURING  \\\n",
       "0    1990-01  47.273       36.430   4.414              1.941         0.061   \n",
       "1    1990-02  46.960       36.384   4.394              1.929         0.060   \n",
       "2    1990-03  46.972       36.374   4.492              1.920         0.061   \n",
       "3    1990-04  46.923       36.202   4.401              1.908         0.061   \n",
       "4    1990-05  46.818       36.448   4.466              1.912         0.061   \n",
       "5    1990-06  47.318       36.317   4.381              1.939         0.064   \n",
       "6    1990-07  46.841       36.210   4.382              1.980         0.060   \n",
       "7    1990-08  46.997       36.419   4.427              1.927         0.062   \n",
       "8    1990-09  47.035       36.340   4.382              1.977         0.060   \n",
       "9    1990-10  47.197       36.319   4.385              1.955         0.061   \n",
       "\n",
       "   WASTE  ELECTRICITY /HEAT  OTHER FUEL COMBUSTION  BULDING  \n",
       "0  1.933              0.067                  0.027    2.374  \n",
       "1  1.919              0.067                  0.026    2.375  \n",
       "2  1.930              0.067                  0.026    2.375  \n",
       "3  1.888              0.067                  0.028    2.376  \n",
       "4  1.923              0.066                  0.025    2.382  \n",
       "5  1.931              0.067                  0.028    2.381  \n",
       "6  1.904              0.066                  0.028    2.377  \n",
       "7  1.894              0.067                  0.029    2.373  \n",
       "8  1.901              0.067                  0.031    2.378  \n",
       "9  1.895              0.067                  0.028    2.378  "
      ]
     },
     "execution_count": 3,
     "metadata": {},
     "output_type": "execute_result"
    }
   ],
   "source": [
    "ch.head(10)"
   ]
  },
  {
   "cell_type": "code",
   "execution_count": 4,
   "id": "83313f50",
   "metadata": {},
   "outputs": [
    {
     "data": {
      "text/plain": [
       "Year-Month               0\n",
       "VALUE                    0\n",
       "AGRICULTURE              0\n",
       "ENERGY                   0\n",
       "FUGITIVE EMISSION        0\n",
       "MANUFATURING             0\n",
       "WASTE                    0\n",
       "ELECTRICITY /HEAT        0\n",
       "OTHER FUEL COMBUSTION    0\n",
       "BULDING                  0\n",
       "dtype: int64"
      ]
     },
     "execution_count": 4,
     "metadata": {},
     "output_type": "execute_result"
    }
   ],
   "source": [
    "ch.isnull().sum()"
   ]
  },
  {
   "cell_type": "code",
   "execution_count": 5,
   "id": "2f14e87d",
   "metadata": {},
   "outputs": [
    {
     "name": "stdout",
     "output_type": "stream",
     "text": [
      "349\n"
     ]
    }
   ],
   "source": [
    "print(ch['VALUE'].nunique())   "
   ]
  },
  {
   "cell_type": "code",
   "execution_count": 6,
   "id": "a9d13c20",
   "metadata": {},
   "outputs": [],
   "source": [
    "ch['YEAR'] = pd.to_datetime(ch['Year-Month']).dt.year"
   ]
  },
  {
   "cell_type": "code",
   "execution_count": 23,
   "id": "57ff8028",
   "metadata": {},
   "outputs": [],
   "source": [
    "ch['Month'] = pd.to_datetime(ch['Year-Month']).dt.month"
   ]
  },
  {
   "cell_type": "code",
   "execution_count": 24,
   "id": "d705cf09",
   "metadata": {},
   "outputs": [
    {
     "data": {
      "text/html": [
       "<div>\n",
       "<style scoped>\n",
       "    .dataframe tbody tr th:only-of-type {\n",
       "        vertical-align: middle;\n",
       "    }\n",
       "\n",
       "    .dataframe tbody tr th {\n",
       "        vertical-align: top;\n",
       "    }\n",
       "\n",
       "    .dataframe thead th {\n",
       "        text-align: right;\n",
       "    }\n",
       "</style>\n",
       "<table border=\"1\" class=\"dataframe\">\n",
       "  <thead>\n",
       "    <tr style=\"text-align: right;\">\n",
       "      <th></th>\n",
       "      <th>Year-Month</th>\n",
       "      <th>VALUE</th>\n",
       "      <th>AGRICULTURE</th>\n",
       "      <th>ENERGY</th>\n",
       "      <th>FUGITIVE EMISSION</th>\n",
       "      <th>MANUFATURING</th>\n",
       "      <th>WASTE</th>\n",
       "      <th>ELECTRICITY /HEAT</th>\n",
       "      <th>OTHER FUEL COMBUSTION</th>\n",
       "      <th>BULDING</th>\n",
       "      <th>YEAR</th>\n",
       "      <th>lag1</th>\n",
       "      <th>Month</th>\n",
       "    </tr>\n",
       "    <tr>\n",
       "      <th>YEAR</th>\n",
       "      <th></th>\n",
       "      <th></th>\n",
       "      <th></th>\n",
       "      <th></th>\n",
       "      <th></th>\n",
       "      <th></th>\n",
       "      <th></th>\n",
       "      <th></th>\n",
       "      <th></th>\n",
       "      <th></th>\n",
       "      <th></th>\n",
       "      <th></th>\n",
       "      <th></th>\n",
       "    </tr>\n",
       "  </thead>\n",
       "  <tbody>\n",
       "    <tr>\n",
       "      <th>2019</th>\n",
       "      <td>2019-03</td>\n",
       "      <td>61.507</td>\n",
       "      <td>41.675</td>\n",
       "      <td>7.195</td>\n",
       "      <td>3.973</td>\n",
       "      <td>0.259</td>\n",
       "      <td>5.809</td>\n",
       "      <td>0.072</td>\n",
       "      <td>0.043</td>\n",
       "      <td>2.726</td>\n",
       "      <td>2019</td>\n",
       "      <td>61.520</td>\n",
       "      <td>3</td>\n",
       "    </tr>\n",
       "    <tr>\n",
       "      <th>2019</th>\n",
       "      <td>2019-04</td>\n",
       "      <td>61.727</td>\n",
       "      <td>41.648</td>\n",
       "      <td>7.179</td>\n",
       "      <td>3.961</td>\n",
       "      <td>0.260</td>\n",
       "      <td>5.772</td>\n",
       "      <td>0.073</td>\n",
       "      <td>0.043</td>\n",
       "      <td>2.728</td>\n",
       "      <td>2019</td>\n",
       "      <td>61.507</td>\n",
       "      <td>4</td>\n",
       "    </tr>\n",
       "    <tr>\n",
       "      <th>2019</th>\n",
       "      <td>2019-05</td>\n",
       "      <td>61.697</td>\n",
       "      <td>41.665</td>\n",
       "      <td>7.208</td>\n",
       "      <td>3.952</td>\n",
       "      <td>0.259</td>\n",
       "      <td>5.805</td>\n",
       "      <td>0.073</td>\n",
       "      <td>0.042</td>\n",
       "      <td>2.729</td>\n",
       "      <td>2019</td>\n",
       "      <td>61.727</td>\n",
       "      <td>5</td>\n",
       "    </tr>\n",
       "    <tr>\n",
       "      <th>2019</th>\n",
       "      <td>2019-06</td>\n",
       "      <td>61.639</td>\n",
       "      <td>41.648</td>\n",
       "      <td>7.149</td>\n",
       "      <td>3.928</td>\n",
       "      <td>0.265</td>\n",
       "      <td>5.756</td>\n",
       "      <td>0.072</td>\n",
       "      <td>0.042</td>\n",
       "      <td>2.726</td>\n",
       "      <td>2019</td>\n",
       "      <td>61.697</td>\n",
       "      <td>6</td>\n",
       "    </tr>\n",
       "    <tr>\n",
       "      <th>2019</th>\n",
       "      <td>2019-07</td>\n",
       "      <td>61.582</td>\n",
       "      <td>41.658</td>\n",
       "      <td>7.211</td>\n",
       "      <td>3.964</td>\n",
       "      <td>0.262</td>\n",
       "      <td>5.746</td>\n",
       "      <td>0.073</td>\n",
       "      <td>0.043</td>\n",
       "      <td>2.725</td>\n",
       "      <td>2019</td>\n",
       "      <td>61.639</td>\n",
       "      <td>7</td>\n",
       "    </tr>\n",
       "    <tr>\n",
       "      <th>2019</th>\n",
       "      <td>2019-08</td>\n",
       "      <td>61.515</td>\n",
       "      <td>41.641</td>\n",
       "      <td>7.160</td>\n",
       "      <td>3.944</td>\n",
       "      <td>0.264</td>\n",
       "      <td>5.746</td>\n",
       "      <td>0.072</td>\n",
       "      <td>0.043</td>\n",
       "      <td>2.726</td>\n",
       "      <td>2019</td>\n",
       "      <td>61.582</td>\n",
       "      <td>8</td>\n",
       "    </tr>\n",
       "    <tr>\n",
       "      <th>2019</th>\n",
       "      <td>2019-09</td>\n",
       "      <td>61.627</td>\n",
       "      <td>41.654</td>\n",
       "      <td>7.179</td>\n",
       "      <td>3.948</td>\n",
       "      <td>0.262</td>\n",
       "      <td>5.759</td>\n",
       "      <td>0.072</td>\n",
       "      <td>0.042</td>\n",
       "      <td>2.729</td>\n",
       "      <td>2019</td>\n",
       "      <td>61.515</td>\n",
       "      <td>9</td>\n",
       "    </tr>\n",
       "    <tr>\n",
       "      <th>2019</th>\n",
       "      <td>2019-10</td>\n",
       "      <td>61.665</td>\n",
       "      <td>41.654</td>\n",
       "      <td>7.203</td>\n",
       "      <td>3.962</td>\n",
       "      <td>0.259</td>\n",
       "      <td>5.806</td>\n",
       "      <td>0.072</td>\n",
       "      <td>0.043</td>\n",
       "      <td>2.730</td>\n",
       "      <td>2019</td>\n",
       "      <td>61.627</td>\n",
       "      <td>10</td>\n",
       "    </tr>\n",
       "    <tr>\n",
       "      <th>2019</th>\n",
       "      <td>2019-11</td>\n",
       "      <td>61.666</td>\n",
       "      <td>41.648</td>\n",
       "      <td>7.171</td>\n",
       "      <td>3.956</td>\n",
       "      <td>0.261</td>\n",
       "      <td>5.745</td>\n",
       "      <td>0.073</td>\n",
       "      <td>0.042</td>\n",
       "      <td>2.727</td>\n",
       "      <td>2019</td>\n",
       "      <td>61.665</td>\n",
       "      <td>11</td>\n",
       "    </tr>\n",
       "    <tr>\n",
       "      <th>2019</th>\n",
       "      <td>2019-12</td>\n",
       "      <td>61.668</td>\n",
       "      <td>41.659</td>\n",
       "      <td>7.195</td>\n",
       "      <td>3.928</td>\n",
       "      <td>0.265</td>\n",
       "      <td>5.752</td>\n",
       "      <td>0.072</td>\n",
       "      <td>0.043</td>\n",
       "      <td>2.726</td>\n",
       "      <td>2019</td>\n",
       "      <td>61.666</td>\n",
       "      <td>12</td>\n",
       "    </tr>\n",
       "  </tbody>\n",
       "</table>\n",
       "</div>"
      ],
      "text/plain": [
       "     Year-Month   VALUE  AGRICULTURE  ENERGY  FUGITIVE EMISSION  MANUFATURING  \\\n",
       "YEAR                                                                            \n",
       "2019    2019-03  61.507       41.675   7.195              3.973         0.259   \n",
       "2019    2019-04  61.727       41.648   7.179              3.961         0.260   \n",
       "2019    2019-05  61.697       41.665   7.208              3.952         0.259   \n",
       "2019    2019-06  61.639       41.648   7.149              3.928         0.265   \n",
       "2019    2019-07  61.582       41.658   7.211              3.964         0.262   \n",
       "2019    2019-08  61.515       41.641   7.160              3.944         0.264   \n",
       "2019    2019-09  61.627       41.654   7.179              3.948         0.262   \n",
       "2019    2019-10  61.665       41.654   7.203              3.962         0.259   \n",
       "2019    2019-11  61.666       41.648   7.171              3.956         0.261   \n",
       "2019    2019-12  61.668       41.659   7.195              3.928         0.265   \n",
       "\n",
       "      WASTE  ELECTRICITY /HEAT  OTHER FUEL COMBUSTION  BULDING  YEAR    lag1  \\\n",
       "YEAR                                                                           \n",
       "2019  5.809              0.072                  0.043    2.726  2019  61.520   \n",
       "2019  5.772              0.073                  0.043    2.728  2019  61.507   \n",
       "2019  5.805              0.073                  0.042    2.729  2019  61.727   \n",
       "2019  5.756              0.072                  0.042    2.726  2019  61.697   \n",
       "2019  5.746              0.073                  0.043    2.725  2019  61.639   \n",
       "2019  5.746              0.072                  0.043    2.726  2019  61.582   \n",
       "2019  5.759              0.072                  0.042    2.729  2019  61.515   \n",
       "2019  5.806              0.072                  0.043    2.730  2019  61.627   \n",
       "2019  5.745              0.073                  0.042    2.727  2019  61.665   \n",
       "2019  5.752              0.072                  0.043    2.726  2019  61.666   \n",
       "\n",
       "      Month  \n",
       "YEAR         \n",
       "2019      3  \n",
       "2019      4  \n",
       "2019      5  \n",
       "2019      6  \n",
       "2019      7  \n",
       "2019      8  \n",
       "2019      9  \n",
       "2019     10  \n",
       "2019     11  \n",
       "2019     12  "
      ]
     },
     "execution_count": 24,
     "metadata": {},
     "output_type": "execute_result"
    }
   ],
   "source": [
    "ch.tail(10)"
   ]
  },
  {
   "cell_type": "code",
   "execution_count": 9,
   "id": "b111676b",
   "metadata": {},
   "outputs": [
    {
     "name": "stdout",
     "output_type": "stream",
     "text": [
      "no of duplicate rows: (0, 11)\n"
     ]
    }
   ],
   "source": [
    "#cleaning duplicates data\n",
    "dup_rows = ch[ch.duplicated()]\n",
    "print(\"no of duplicate rows:\",dup_rows.shape)"
   ]
  },
  {
   "cell_type": "code",
   "execution_count": 8,
   "id": "5b7c83db",
   "metadata": {},
   "outputs": [
    {
     "data": {
      "text/plain": [
       "<seaborn.axisgrid.JointGrid at 0x17f0723eee0>"
      ]
     },
     "execution_count": 8,
     "metadata": {},
     "output_type": "execute_result"
    },
    {
     "data": {
      "image/png": "[encoded data removed]",
      "text/plain": [
       "<Figure size 432x432 with 3 Axes>"
      ]
     },
     "metadata": {
      "needs_background": "light"
     },
     "output_type": "display_data"
    }
   ],
   "source": [
    "sns.jointplot(x='VALUE',y='YEAR', data=ch)"
   ]
  },
  {
   "cell_type": "code",
   "execution_count": 11,
   "id": "a5a2e064",
   "metadata": {},
   "outputs": [
    {
     "data": {
      "text/html": [
       "<div>\n",
       "<style scoped>\n",
       "    .dataframe tbody tr th:only-of-type {\n",
       "        vertical-align: middle;\n",
       "    }\n",
       "\n",
       "    .dataframe tbody tr th {\n",
       "        vertical-align: top;\n",
       "    }\n",
       "\n",
       "    .dataframe thead th {\n",
       "        text-align: right;\n",
       "    }\n",
       "</style>\n",
       "<table border=\"1\" class=\"dataframe\">\n",
       "  <thead>\n",
       "    <tr style=\"text-align: right;\">\n",
       "      <th></th>\n",
       "      <th>VALUE</th>\n",
       "      <th>AGRICULTURE</th>\n",
       "      <th>ENERGY</th>\n",
       "      <th>FUGITIVE EMISSION</th>\n",
       "      <th>MANUFATURING</th>\n",
       "      <th>WASTE</th>\n",
       "      <th>ELECTRICITY /HEAT</th>\n",
       "      <th>OTHER FUEL COMBUSTION</th>\n",
       "      <th>BULDING</th>\n",
       "      <th>YEAR</th>\n",
       "    </tr>\n",
       "  </thead>\n",
       "  <tbody>\n",
       "    <tr>\n",
       "      <th>count</th>\n",
       "      <td>360.000000</td>\n",
       "      <td>360.000000</td>\n",
       "      <td>360.000000</td>\n",
       "      <td>360.000000</td>\n",
       "      <td>360.000000</td>\n",
       "      <td>360.000000</td>\n",
       "      <td>360.000000</td>\n",
       "      <td>360.000000</td>\n",
       "      <td>360.000000</td>\n",
       "      <td>360.000000</td>\n",
       "    </tr>\n",
       "    <tr>\n",
       "      <th>mean</th>\n",
       "      <td>54.763969</td>\n",
       "      <td>39.142042</td>\n",
       "      <td>5.612508</td>\n",
       "      <td>2.766611</td>\n",
       "      <td>0.141669</td>\n",
       "      <td>4.449333</td>\n",
       "      <td>0.602072</td>\n",
       "      <td>0.032578</td>\n",
       "      <td>2.592289</td>\n",
       "      <td>2004.500000</td>\n",
       "    </tr>\n",
       "    <tr>\n",
       "      <th>std</th>\n",
       "      <td>4.797843</td>\n",
       "      <td>1.686368</td>\n",
       "      <td>1.028534</td>\n",
       "      <td>0.780109</td>\n",
       "      <td>0.064772</td>\n",
       "      <td>1.248720</td>\n",
       "      <td>1.945027</td>\n",
       "      <td>0.009026</td>\n",
       "      <td>0.129219</td>\n",
       "      <td>8.667488</td>\n",
       "    </tr>\n",
       "    <tr>\n",
       "      <th>min</th>\n",
       "      <td>46.818000</td>\n",
       "      <td>36.196000</td>\n",
       "      <td>4.334000</td>\n",
       "      <td>1.801000</td>\n",
       "      <td>0.060000</td>\n",
       "      <td>1.888000</td>\n",
       "      <td>0.010000</td>\n",
       "      <td>0.015000</td>\n",
       "      <td>2.372000</td>\n",
       "      <td>1990.000000</td>\n",
       "    </tr>\n",
       "    <tr>\n",
       "      <th>25%</th>\n",
       "      <td>50.937000</td>\n",
       "      <td>37.670750</td>\n",
       "      <td>4.691750</td>\n",
       "      <td>2.066250</td>\n",
       "      <td>0.084000</td>\n",
       "      <td>3.744250</td>\n",
       "      <td>0.017750</td>\n",
       "      <td>0.025000</td>\n",
       "      <td>2.483000</td>\n",
       "      <td>1997.000000</td>\n",
       "    </tr>\n",
       "    <tr>\n",
       "      <th>50%</th>\n",
       "      <td>54.593500</td>\n",
       "      <td>39.233500</td>\n",
       "      <td>5.313000</td>\n",
       "      <td>2.519500</td>\n",
       "      <td>0.121000</td>\n",
       "      <td>4.956500</td>\n",
       "      <td>0.033500</td>\n",
       "      <td>0.031000</td>\n",
       "      <td>2.587000</td>\n",
       "      <td>2004.500000</td>\n",
       "    </tr>\n",
       "    <tr>\n",
       "      <th>75%</th>\n",
       "      <td>59.111750</td>\n",
       "      <td>40.630250</td>\n",
       "      <td>6.691250</td>\n",
       "      <td>3.587250</td>\n",
       "      <td>0.193250</td>\n",
       "      <td>5.329250</td>\n",
       "      <td>0.066000</td>\n",
       "      <td>0.039000</td>\n",
       "      <td>2.732000</td>\n",
       "      <td>2012.000000</td>\n",
       "    </tr>\n",
       "    <tr>\n",
       "      <th>max</th>\n",
       "      <td>61.750000</td>\n",
       "      <td>41.679000</td>\n",
       "      <td>7.213000</td>\n",
       "      <td>3.977000</td>\n",
       "      <td>0.265000</td>\n",
       "      <td>5.809000</td>\n",
       "      <td>8.343000</td>\n",
       "      <td>0.057000</td>\n",
       "      <td>2.755000</td>\n",
       "      <td>2019.000000</td>\n",
       "    </tr>\n",
       "  </tbody>\n",
       "</table>\n",
       "</div>"
      ],
      "text/plain": [
       "            VALUE  AGRICULTURE      ENERGY  FUGITIVE EMISSION  MANUFATURING  \\\n",
       "count  360.000000   360.000000  360.000000         360.000000    360.000000   \n",
       "mean    54.763969    39.142042    5.612508           2.766611      0.141669   \n",
       "std      4.797843     1.686368    1.028534           0.780109      0.064772   \n",
       "min     46.818000    36.196000    4.334000           1.801000      0.060000   \n",
       "25%     50.937000    37.670750    4.691750           2.066250      0.084000   \n",
       "50%     54.593500    39.233500    5.313000           2.519500      0.121000   \n",
       "75%     59.111750    40.630250    6.691250           3.587250      0.193250   \n",
       "max     61.750000    41.679000    7.213000           3.977000      0.265000   \n",
       "\n",
       "            WASTE  ELECTRICITY /HEAT  OTHER FUEL COMBUSTION     BULDING  \\\n",
       "count  360.000000         360.000000             360.000000  360.000000   \n",
       "mean     4.449333           0.602072               0.032578    2.592289   \n",
       "std      1.248720           1.945027               0.009026    0.129219   \n",
       "min      1.888000           0.010000               0.015000    2.372000   \n",
       "25%      3.744250           0.017750               0.025000    2.483000   \n",
       "50%      4.956500           0.033500               0.031000    2.587000   \n",
       "75%      5.329250           0.066000               0.039000    2.732000   \n",
       "max      5.809000           8.343000               0.057000    2.755000   \n",
       "\n",
       "              YEAR  \n",
       "count   360.000000  \n",
       "mean   2004.500000  \n",
       "std       8.667488  \n",
       "min    1990.000000  \n",
       "25%    1997.000000  \n",
       "50%    2004.500000  \n",
       "75%    2012.000000  \n",
       "max    2019.000000  "
      ]
     },
     "execution_count": 11,
     "metadata": {},
     "output_type": "execute_result"
    }
   ],
   "source": [
    "ch.describe()"
   ]
  },
  {
   "cell_type": "code",
   "execution_count": 9,
   "id": "00f849e6",
   "metadata": {},
   "outputs": [
    {
     "data": {
      "text/html": [
       "<div>\n",
       "<style scoped>\n",
       "    .dataframe tbody tr th:only-of-type {\n",
       "        vertical-align: middle;\n",
       "    }\n",
       "\n",
       "    .dataframe tbody tr th {\n",
       "        vertical-align: top;\n",
       "    }\n",
       "\n",
       "    .dataframe thead th {\n",
       "        text-align: right;\n",
       "    }\n",
       "</style>\n",
       "<table border=\"1\" class=\"dataframe\">\n",
       "  <thead>\n",
       "    <tr style=\"text-align: right;\">\n",
       "      <th></th>\n",
       "      <th>Year-Month</th>\n",
       "      <th>VALUE</th>\n",
       "      <th>AGRICULTURE</th>\n",
       "      <th>ENERGY</th>\n",
       "      <th>FUGITIVE EMISSION</th>\n",
       "      <th>MANUFATURING</th>\n",
       "      <th>WASTE</th>\n",
       "      <th>ELECTRICITY /HEAT</th>\n",
       "      <th>OTHER FUEL COMBUSTION</th>\n",
       "      <th>BULDING</th>\n",
       "      <th>YEAR</th>\n",
       "      <th>lag1</th>\n",
       "    </tr>\n",
       "  </thead>\n",
       "  <tbody>\n",
       "    <tr>\n",
       "      <th>0</th>\n",
       "      <td>1990-01</td>\n",
       "      <td>47.273</td>\n",
       "      <td>36.430</td>\n",
       "      <td>4.414</td>\n",
       "      <td>1.941</td>\n",
       "      <td>0.061</td>\n",
       "      <td>1.933</td>\n",
       "      <td>0.067</td>\n",
       "      <td>0.027</td>\n",
       "      <td>2.374</td>\n",
       "      <td>1990</td>\n",
       "      <td>NaN</td>\n",
       "    </tr>\n",
       "    <tr>\n",
       "      <th>1</th>\n",
       "      <td>1990-02</td>\n",
       "      <td>46.960</td>\n",
       "      <td>36.384</td>\n",
       "      <td>4.394</td>\n",
       "      <td>1.929</td>\n",
       "      <td>0.060</td>\n",
       "      <td>1.919</td>\n",
       "      <td>0.067</td>\n",
       "      <td>0.026</td>\n",
       "      <td>2.375</td>\n",
       "      <td>1990</td>\n",
       "      <td>47.273</td>\n",
       "    </tr>\n",
       "    <tr>\n",
       "      <th>2</th>\n",
       "      <td>1990-03</td>\n",
       "      <td>46.972</td>\n",
       "      <td>36.374</td>\n",
       "      <td>4.492</td>\n",
       "      <td>1.920</td>\n",
       "      <td>0.061</td>\n",
       "      <td>1.930</td>\n",
       "      <td>0.067</td>\n",
       "      <td>0.026</td>\n",
       "      <td>2.375</td>\n",
       "      <td>1990</td>\n",
       "      <td>46.960</td>\n",
       "    </tr>\n",
       "    <tr>\n",
       "      <th>3</th>\n",
       "      <td>1990-04</td>\n",
       "      <td>46.923</td>\n",
       "      <td>36.202</td>\n",
       "      <td>4.401</td>\n",
       "      <td>1.908</td>\n",
       "      <td>0.061</td>\n",
       "      <td>1.888</td>\n",
       "      <td>0.067</td>\n",
       "      <td>0.028</td>\n",
       "      <td>2.376</td>\n",
       "      <td>1990</td>\n",
       "      <td>46.972</td>\n",
       "    </tr>\n",
       "    <tr>\n",
       "      <th>4</th>\n",
       "      <td>1990-05</td>\n",
       "      <td>46.818</td>\n",
       "      <td>36.448</td>\n",
       "      <td>4.466</td>\n",
       "      <td>1.912</td>\n",
       "      <td>0.061</td>\n",
       "      <td>1.923</td>\n",
       "      <td>0.066</td>\n",
       "      <td>0.025</td>\n",
       "      <td>2.382</td>\n",
       "      <td>1990</td>\n",
       "      <td>46.923</td>\n",
       "    </tr>\n",
       "    <tr>\n",
       "      <th>...</th>\n",
       "      <td>...</td>\n",
       "      <td>...</td>\n",
       "      <td>...</td>\n",
       "      <td>...</td>\n",
       "      <td>...</td>\n",
       "      <td>...</td>\n",
       "      <td>...</td>\n",
       "      <td>...</td>\n",
       "      <td>...</td>\n",
       "      <td>...</td>\n",
       "      <td>...</td>\n",
       "      <td>...</td>\n",
       "    </tr>\n",
       "    <tr>\n",
       "      <th>355</th>\n",
       "      <td>2019-08</td>\n",
       "      <td>61.515</td>\n",
       "      <td>41.641</td>\n",
       "      <td>7.160</td>\n",
       "      <td>3.944</td>\n",
       "      <td>0.264</td>\n",
       "      <td>5.746</td>\n",
       "      <td>0.072</td>\n",
       "      <td>0.043</td>\n",
       "      <td>2.726</td>\n",
       "      <td>2019</td>\n",
       "      <td>61.582</td>\n",
       "    </tr>\n",
       "    <tr>\n",
       "      <th>356</th>\n",
       "      <td>2019-09</td>\n",
       "      <td>61.627</td>\n",
       "      <td>41.654</td>\n",
       "      <td>7.179</td>\n",
       "      <td>3.948</td>\n",
       "      <td>0.262</td>\n",
       "      <td>5.759</td>\n",
       "      <td>0.072</td>\n",
       "      <td>0.042</td>\n",
       "      <td>2.729</td>\n",
       "      <td>2019</td>\n",
       "      <td>61.515</td>\n",
       "    </tr>\n",
       "    <tr>\n",
       "      <th>357</th>\n",
       "      <td>2019-10</td>\n",
       "      <td>61.665</td>\n",
       "      <td>41.654</td>\n",
       "      <td>7.203</td>\n",
       "      <td>3.962</td>\n",
       "      <td>0.259</td>\n",
       "      <td>5.806</td>\n",
       "      <td>0.072</td>\n",
       "      <td>0.043</td>\n",
       "      <td>2.730</td>\n",
       "      <td>2019</td>\n",
       "      <td>61.627</td>\n",
       "    </tr>\n",
       "    <tr>\n",
       "      <th>358</th>\n",
       "      <td>2019-11</td>\n",
       "      <td>61.666</td>\n",
       "      <td>41.648</td>\n",
       "      <td>7.171</td>\n",
       "      <td>3.956</td>\n",
       "      <td>0.261</td>\n",
       "      <td>5.745</td>\n",
       "      <td>0.073</td>\n",
       "      <td>0.042</td>\n",
       "      <td>2.727</td>\n",
       "      <td>2019</td>\n",
       "      <td>61.665</td>\n",
       "    </tr>\n",
       "    <tr>\n",
       "      <th>359</th>\n",
       "      <td>2019-12</td>\n",
       "      <td>61.668</td>\n",
       "      <td>41.659</td>\n",
       "      <td>7.195</td>\n",
       "      <td>3.928</td>\n",
       "      <td>0.265</td>\n",
       "      <td>5.752</td>\n",
       "      <td>0.072</td>\n",
       "      <td>0.043</td>\n",
       "      <td>2.726</td>\n",
       "      <td>2019</td>\n",
       "      <td>61.666</td>\n",
       "    </tr>\n",
       "  </tbody>\n",
       "</table>\n",
       "<p>360 rows × 12 columns</p>\n",
       "</div>"
      ],
      "text/plain": [
       "    Year-Month   VALUE  AGRICULTURE  ENERGY  FUGITIVE EMISSION  MANUFATURING  \\\n",
       "0      1990-01  47.273       36.430   4.414              1.941         0.061   \n",
       "1      1990-02  46.960       36.384   4.394              1.929         0.060   \n",
       "2      1990-03  46.972       36.374   4.492              1.920         0.061   \n",
       "3      1990-04  46.923       36.202   4.401              1.908         0.061   \n",
       "4      1990-05  46.818       36.448   4.466              1.912         0.061   \n",
       "..         ...     ...          ...     ...                ...           ...   \n",
       "355    2019-08  61.515       41.641   7.160              3.944         0.264   \n",
       "356    2019-09  61.627       41.654   7.179              3.948         0.262   \n",
       "357    2019-10  61.665       41.654   7.203              3.962         0.259   \n",
       "358    2019-11  61.666       41.648   7.171              3.956         0.261   \n",
       "359    2019-12  61.668       41.659   7.195              3.928         0.265   \n",
       "\n",
       "     WASTE  ELECTRICITY /HEAT  OTHER FUEL COMBUSTION  BULDING  YEAR    lag1  \n",
       "0    1.933              0.067                  0.027    2.374  1990     NaN  \n",
       "1    1.919              0.067                  0.026    2.375  1990  47.273  \n",
       "2    1.930              0.067                  0.026    2.375  1990  46.960  \n",
       "3    1.888              0.067                  0.028    2.376  1990  46.972  \n",
       "4    1.923              0.066                  0.025    2.382  1990  46.923  \n",
       "..     ...                ...                    ...      ...   ...     ...  \n",
       "355  5.746              0.072                  0.043    2.726  2019  61.582  \n",
       "356  5.759              0.072                  0.042    2.729  2019  61.515  \n",
       "357  5.806              0.072                  0.043    2.730  2019  61.627  \n",
       "358  5.745              0.073                  0.042    2.727  2019  61.665  \n",
       "359  5.752              0.072                  0.043    2.726  2019  61.666  \n",
       "\n",
       "[360 rows x 12 columns]"
      ]
     },
     "execution_count": 9,
     "metadata": {},
     "output_type": "execute_result"
    }
   ],
   "source": [
    "#lag feature\n",
    "ch['lag1'] = ch['VALUE'].shift(1)\n",
    "ch"
   ]
  },
  {
   "cell_type": "code",
   "execution_count": 13,
   "id": "eccdde09",
   "metadata": {},
   "outputs": [
    {
     "data": {
      "text/plain": [
       "YEAR\n",
       "1990    47.015250\n",
       "1991    47.354583\n",
       "1992    47.560417\n",
       "1993    47.790667\n",
       "1994    48.405083\n",
       "1995    49.335917\n",
       "1996    50.336083\n",
       "1997    50.903583\n",
       "1998    51.522833\n",
       "1999    52.195250\n",
       "2000    52.498917\n",
       "2001    52.357500\n",
       "2002    52.454500\n",
       "2003    53.182500\n",
       "2004    54.149833\n",
       "2005    55.025083\n",
       "2006    56.254083\n",
       "2007    57.074333\n",
       "2008    57.586000\n",
       "2009    58.069500\n",
       "2010    58.716667\n",
       "2011    58.995333\n",
       "2012    59.114750\n",
       "2013    59.446083\n",
       "2014    59.853917\n",
       "2015    60.258417\n",
       "2016    61.032750\n",
       "2017    61.121000\n",
       "2018    61.683833\n",
       "2019    61.624417\n",
       "Name: VALUE, dtype: float64"
      ]
     },
     "execution_count": 13,
     "metadata": {},
     "output_type": "execute_result"
    }
   ],
   "source": [
    "ch.groupby('YEAR')['VALUE'].mean()"
   ]
  },
  {
   "cell_type": "code",
   "execution_count": 10,
   "id": "675698fc",
   "metadata": {},
   "outputs": [
    {
     "data": {
      "text/plain": [
       "<AxesSubplot:xlabel='lag1', ylabel='VALUE'>"
      ]
     },
     "execution_count": 10,
     "metadata": {},
     "output_type": "execute_result"
    },
    {
     "data": {
      "image/png": "[encoded data removed]",
      "text/plain": [
       "<Figure size 432x288 with 1 Axes>"
      ]
     },
     "metadata": {
      "needs_background": "light"
     },
     "output_type": "display_data"
    }
   ],
   "source": [
    "sns.scatterplot(x=ch['lag1'],y=ch['VALUE'] )"
   ]
  },
  {
   "cell_type": "code",
   "execution_count": 15,
   "id": "a72b6999",
   "metadata": {},
   "outputs": [
    {
     "data": {
      "text/plain": [
       "<AxesSubplot:xlabel='y(t)', ylabel='y(t + 1)'>"
      ]
     },
     "execution_count": 15,
     "metadata": {},
     "output_type": "execute_result"
    },
    {
     "data": {
      "image/png": "[encoded data removed]",
      "text/plain": [
       "<Figure size 432x288 with 1 Axes>"
      ]
     },
     "metadata": {
      "needs_background": "light"
     },
     "output_type": "display_data"
    }
   ],
   "source": [
    "from pandas.plotting import lag_plot\n",
    "lag_plot(ch['VALUE'])"
   ]
  },
  {
   "cell_type": "code",
   "execution_count": 11,
   "id": "bbac6d22",
   "metadata": {},
   "outputs": [
    {
     "data": {
      "text/plain": [
       "<AxesSubplot:xlabel='Lag', ylabel='Autocorrelation'>"
      ]
     },
     "execution_count": 11,
     "metadata": {},
     "output_type": "execute_result"
    },
    {
     "data": {
      "image/png": "[encoded data removed]",
      "text/plain": [
       "<Figure size 432x288 with 1 Axes>"
      ]
     },
     "metadata": {
      "needs_background": "light"
     },
     "output_type": "display_data"
    }
   ],
   "source": [
    "#Auto-correlation\n",
    "from pandas.plotting import autocorrelation_plot\n",
    "autocorrelation_plot(ch['VALUE'])"
   ]
  },
  {
   "cell_type": "markdown",
   "id": "db24c1af",
   "metadata": {},
   "source": [
    "# Decomposing Time Series"
   ]
  },
  {
   "cell_type": "code",
   "execution_count": 12,
   "id": "e0f6c57d",
   "metadata": {},
   "outputs": [],
   "source": [
    "import statsmodels as sm\n",
    "import statsmodels.api as sm"
   ]
  },
  {
   "cell_type": "code",
   "execution_count": 13,
   "id": "3393d88d",
   "metadata": {},
   "outputs": [],
   "source": [
    "from statsmodels.tsa.seasonal import seasonal_decompose\n",
    "ch.index = ch['YEAR']"
   ]
  },
  {
   "cell_type": "code",
   "execution_count": 14,
   "id": "2c2e26b3",
   "metadata": {},
   "outputs": [],
   "source": [
    "result = sm.tsa.seasonal_decompose(ch['VALUE'],  model =\"additive\" ,period=1)        #Additive model-y(t)=Level + Trend + Seasonality + Noise"
   ]
  },
  {
   "cell_type": "code",
   "execution_count": 15,
   "id": "bac0c642",
   "metadata": {},
   "outputs": [
    {
     "data": {
      "image/png": "[encoded data removed]",
      "text/plain": [
       "<Figure size 432x288 with 4 Axes>"
      ]
     },
     "execution_count": 15,
     "metadata": {},
     "output_type": "execute_result"
    },
    {
     "data": {
      "image/png": "[encoded data removed]",
      "text/plain": [
       "<Figure size 432x288 with 4 Axes>"
      ]
     },
     "metadata": {
      "needs_background": "light"
     },
     "output_type": "display_data"
    }
   ],
   "source": [
    "result.plot()"
   ]
  },
  {
   "cell_type": "code",
   "execution_count": 21,
   "id": "c02c99cb",
   "metadata": {},
   "outputs": [],
   "source": [
    "result_2 = sm.tsa.seasonal_decompose(ch['VALUE'],  model =\"multiplicative\" ,period=1)     #Multiplicative model-y(t)=Level * Trend * Seasonality * Noise"
   ]
  },
  {
   "cell_type": "code",
   "execution_count": 22,
   "id": "234371a6",
   "metadata": {},
   "outputs": [
    {
     "data": {
      "image/png": "[encoded data removed]",
      "text/plain": [
       "<Figure size 432x288 with 4 Axes>"
      ]
     },
     "execution_count": 22,
     "metadata": {},
     "output_type": "execute_result"
    },
    {
     "data": {
      "image/png": "[encoded data removed]",
      "text/plain": [
       "<Figure size 432x288 with 4 Axes>"
      ]
     },
     "metadata": {
      "needs_background": "light"
     },
     "output_type": "display_data"
    }
   ],
   "source": [
    "result_2.plot()"
   ]
  },
  {
   "cell_type": "markdown",
   "id": "f0dec713",
   "metadata": {},
   "source": [
    "# Train-Test split"
   ]
  },
  {
   "cell_type": "code",
   "execution_count": 16,
   "id": "02b20e71",
   "metadata": {},
   "outputs": [
    {
     "data": {
      "text/plain": [
       "(360, 12)"
      ]
     },
     "execution_count": 16,
     "metadata": {},
     "output_type": "execute_result"
    }
   ],
   "source": [
    "ch.shape"
   ]
  },
  {
   "cell_type": "code",
   "execution_count": 17,
   "id": "7dbe312a",
   "metadata": {},
   "outputs": [
    {
     "data": {
      "text/plain": [
       "349"
      ]
     },
     "execution_count": 17,
     "metadata": {},
     "output_type": "execute_result"
    }
   ],
   "source": [
    "ch['VALUE'].nunique()"
   ]
  },
  {
   "cell_type": "code",
   "execution_count": 18,
   "id": "b3c95de0",
   "metadata": {},
   "outputs": [],
   "source": [
    "train_size = int(ch.shape[0] * 0.8)    "
   ]
  },
  {
   "cell_type": "code",
   "execution_count": 19,
   "id": "8581dcbf",
   "metadata": {},
   "outputs": [],
   "source": [
    "training = ch[0:train_size]"
   ]
  },
  {
   "cell_type": "code",
   "execution_count": 20,
   "id": "e185d87d",
   "metadata": {},
   "outputs": [
    {
     "data": {
      "text/plain": [
       "(288, 12)"
      ]
     },
     "execution_count": 20,
     "metadata": {},
     "output_type": "execute_result"
    }
   ],
   "source": [
    "training.shape"
   ]
  },
  {
   "cell_type": "code",
   "execution_count": 21,
   "id": "8483abd2",
   "metadata": {},
   "outputs": [],
   "source": [
    "testing = ch[train_size:]"
   ]
  },
  {
   "cell_type": "code",
   "execution_count": 22,
   "id": "b3f7f188",
   "metadata": {},
   "outputs": [
    {
     "data": {
      "text/plain": [
       "(72, 12)"
      ]
     },
     "execution_count": 22,
     "metadata": {},
     "output_type": "execute_result"
    }
   ],
   "source": [
    "testing.shape"
   ]
  },
  {
   "cell_type": "markdown",
   "id": "a0e8b0a0",
   "metadata": {},
   "source": [
    "# Model-1:ARIMA(Autoregressive integrated moving average)"
   ]
  },
  {
   "cell_type": "code",
   "execution_count": 35,
   "id": "38eef861",
   "metadata": {},
   "outputs": [],
   "source": [
    "ch.index = ch['Year-Month']"
   ]
  },
  {
   "cell_type": "code",
   "execution_count": 36,
   "id": "7211b01d",
   "metadata": {},
   "outputs": [
    {
     "data": {
      "text/plain": [
       "<AxesSubplot:xlabel='Lag', ylabel='Autocorrelation'>"
      ]
     },
     "execution_count": 36,
     "metadata": {},
     "output_type": "execute_result"
    },
    {
     "data": {
      "image/png": "[encoded data removed]",
      "text/plain": [
       "<Figure size 432x288 with 1 Axes>"
      ]
     },
     "metadata": {
      "needs_background": "light"
     },
     "output_type": "display_data"
    }
   ],
   "source": [
    "#Now to find auto-correlation function(acf)\n",
    "from pandas.plotting import autocorrelation_plot\n",
    "autocorrelation_plot(ch['VALUE'])"
   ]
  },
  {
   "cell_type": "code",
   "execution_count": 37,
   "id": "4a6cd75f",
   "metadata": {},
   "outputs": [
    {
     "name": "stderr",
     "output_type": "stream",
     "text": [
      "C:\\Users\\arunk\\anaconda3\\lib\\site-packages\\statsmodels\\graphics\\tsaplots.py:348: FutureWarning: The default method 'yw' can produce PACF values outside of the [-1,1] interval. After 0.13, the default will change tounadjusted Yule-Walker ('ywm'). You can use this method now by setting method='ywm'.\n",
      "  warnings.warn(\n"
     ]
    },
    {
     "data": {
      "image/png": "[encoded data removed]",
      "text/plain": [
       "<Figure size 432x288 with 1 Axes>"
      ]
     },
     "execution_count": 37,
     "metadata": {},
     "output_type": "execute_result"
    },
    {
     "data": {
      "image/png": "[encoded data removed]",
      "text/plain": [
       "<Figure size 432x288 with 1 Axes>"
      ]
     },
     "metadata": {
      "needs_background": "light"
     },
     "output_type": "display_data"
    }
   ],
   "source": [
    "#Now to find partial auto-correlation function(pacf)\n",
    "from statsmodels.graphics.tsaplots import plot_pacf\n",
    "plot_pacf(ch['VALUE'],lags=5)"
   ]
  },
  {
   "cell_type": "code",
   "execution_count": 38,
   "id": "719b2eb0",
   "metadata": {},
   "outputs": [
    {
     "name": "stderr",
     "output_type": "stream",
     "text": [
      "C:\\Users\\arunk\\anaconda3\\lib\\site-packages\\statsmodels\\tsa\\base\\tsa_model.py:471: ValueWarning: No frequency information was provided, so inferred frequency MS will be used.\n",
      "  self._init_dates(dates, freq)\n",
      "C:\\Users\\arunk\\anaconda3\\lib\\site-packages\\statsmodels\\tsa\\base\\tsa_model.py:471: ValueWarning: No frequency information was provided, so inferred frequency MS will be used.\n",
      "  self._init_dates(dates, freq)\n",
      "C:\\Users\\arunk\\anaconda3\\lib\\site-packages\\statsmodels\\tsa\\base\\tsa_model.py:471: ValueWarning: No frequency information was provided, so inferred frequency MS will be used.\n",
      "  self._init_dates(dates, freq)\n"
     ]
    }
   ],
   "source": [
    "from statsmodels.tsa.arima.model import ARIMA\n",
    "ari_model = ARIMA(ch['VALUE'],order=(2,2,5))    #p-order of auto regression d-order of integration q-order of moving average"
   ]
  },
  {
   "cell_type": "code",
   "execution_count": 39,
   "id": "d41b8e22",
   "metadata": {},
   "outputs": [
    {
     "name": "stderr",
     "output_type": "stream",
     "text": [
      "C:\\Users\\arunk\\anaconda3\\lib\\site-packages\\statsmodels\\tsa\\statespace\\sarimax.py:966: UserWarning: Non-stationary starting autoregressive parameters found. Using zeros as starting parameters.\n",
      "  warn('Non-stationary starting autoregressive parameters'\n",
      "C:\\Users\\arunk\\anaconda3\\lib\\site-packages\\statsmodels\\tsa\\statespace\\sarimax.py:978: UserWarning: Non-invertible starting MA parameters found. Using zeros as starting parameters.\n",
      "  warn('Non-invertible starting MA parameters found.'\n",
      "C:\\Users\\arunk\\anaconda3\\lib\\site-packages\\statsmodels\\base\\model.py:604: ConvergenceWarning: Maximum Likelihood optimization failed to converge. Check mle_retvals\n",
      "  warnings.warn(\"Maximum Likelihood optimization failed to \"\n"
     ]
    }
   ],
   "source": [
    "model_fits = ari_model.fit()"
   ]
  },
  {
   "cell_type": "code",
   "execution_count": 40,
   "id": "0fc082a6",
   "metadata": {},
   "outputs": [
    {
     "data": {
      "text/html": [
       "<table class=\"simpletable\">\n",
       "<caption>SARIMAX Results</caption>\n",
       "<tr>\n",
       "  <th>Dep. Variable:</th>         <td>VALUE</td>      <th>  No. Observations:  </th>   <td>360</td>  \n",
       "</tr>\n",
       "<tr>\n",
       "  <th>Model:</th>            <td>ARIMA(2, 2, 5)</td>  <th>  Log Likelihood     </th> <td>-53.624</td>\n",
       "</tr>\n",
       "<tr>\n",
       "  <th>Date:</th>            <td>Wed, 12 Oct 2022</td> <th>  AIC                </th> <td>123.248</td>\n",
       "</tr>\n",
       "<tr>\n",
       "  <th>Time:</th>                <td>11:08:06</td>     <th>  BIC                </th> <td>154.292</td>\n",
       "</tr>\n",
       "<tr>\n",
       "  <th>Sample:</th>             <td>01-01-1990</td>    <th>  HQIC               </th> <td>135.594</td>\n",
       "</tr>\n",
       "<tr>\n",
       "  <th></th>                   <td>- 12-01-2019</td>   <th>                     </th>    <td> </td>   \n",
       "</tr>\n",
       "<tr>\n",
       "  <th>Covariance Type:</th>        <td>opg</td>       <th>                     </th>    <td> </td>   \n",
       "</tr>\n",
       "</table>\n",
       "<table class=\"simpletable\">\n",
       "<tr>\n",
       "     <td></td>       <th>coef</th>     <th>std err</th>      <th>z</th>      <th>P>|z|</th>  <th>[0.025</th>    <th>0.975]</th>  \n",
       "</tr>\n",
       "<tr>\n",
       "  <th>ar.L1</th>  <td>   -0.5134</td> <td>    0.485</td> <td>   -1.060</td> <td> 0.289</td> <td>   -1.463</td> <td>    0.436</td>\n",
       "</tr>\n",
       "<tr>\n",
       "  <th>ar.L2</th>  <td>    0.4776</td> <td>    0.482</td> <td>    0.991</td> <td> 0.322</td> <td>   -0.467</td> <td>    1.422</td>\n",
       "</tr>\n",
       "<tr>\n",
       "  <th>ma.L1</th>  <td>   -1.0024</td> <td>    0.474</td> <td>   -2.116</td> <td> 0.034</td> <td>   -1.931</td> <td>   -0.074</td>\n",
       "</tr>\n",
       "<tr>\n",
       "  <th>ma.L2</th>  <td>   -0.8536</td> <td>    0.241</td> <td>   -3.542</td> <td> 0.000</td> <td>   -1.326</td> <td>   -0.381</td>\n",
       "</tr>\n",
       "<tr>\n",
       "  <th>ma.L3</th>  <td>    1.0050</td> <td>    0.576</td> <td>    1.745</td> <td> 0.081</td> <td>   -0.124</td> <td>    2.134</td>\n",
       "</tr>\n",
       "<tr>\n",
       "  <th>ma.L4</th>  <td>   -0.1038</td> <td>    0.240</td> <td>   -0.433</td> <td> 0.665</td> <td>   -0.574</td> <td>    0.366</td>\n",
       "</tr>\n",
       "<tr>\n",
       "  <th>ma.L5</th>  <td>   -0.0178</td> <td>    0.130</td> <td>   -0.137</td> <td> 0.891</td> <td>   -0.272</td> <td>    0.237</td>\n",
       "</tr>\n",
       "<tr>\n",
       "  <th>sigma2</th> <td>    0.0771</td> <td>    0.004</td> <td>   17.199</td> <td> 0.000</td> <td>    0.068</td> <td>    0.086</td>\n",
       "</tr>\n",
       "</table>\n",
       "<table class=\"simpletable\">\n",
       "<tr>\n",
       "  <th>Ljung-Box (L1) (Q):</th>     <td>0.00</td> <th>  Jarque-Bera (JB):  </th> <td>125.98</td>\n",
       "</tr>\n",
       "<tr>\n",
       "  <th>Prob(Q):</th>                <td>0.96</td> <th>  Prob(JB):          </th>  <td>0.00</td> \n",
       "</tr>\n",
       "<tr>\n",
       "  <th>Heteroskedasticity (H):</th> <td>0.56</td> <th>  Skew:              </th>  <td>0.70</td> \n",
       "</tr>\n",
       "<tr>\n",
       "  <th>Prob(H) (two-sided):</th>    <td>0.00</td> <th>  Kurtosis:          </th>  <td>5.55</td> \n",
       "</tr>\n",
       "</table><br/><br/>Warnings:<br/>[1] Covariance matrix calculated using the outer product of gradients (complex-step)."
      ],
      "text/plain": [
       "<class 'statsmodels.iolib.summary.Summary'>\n",
       "\"\"\"\n",
       "                               SARIMAX Results                                \n",
       "==============================================================================\n",
       "Dep. Variable:                  VALUE   No. Observations:                  360\n",
       "Model:                 ARIMA(2, 2, 5)   Log Likelihood                 -53.624\n",
       "Date:                Wed, 12 Oct 2022   AIC                            123.248\n",
       "Time:                        11:08:06   BIC                            154.292\n",
       "Sample:                    01-01-1990   HQIC                           135.594\n",
       "                         - 12-01-2019                                         \n",
       "Covariance Type:                  opg                                         \n",
       "==============================================================================\n",
       "                 coef    std err          z      P>|z|      [0.025      0.975]\n",
       "------------------------------------------------------------------------------\n",
       "ar.L1         -0.5134      0.485     -1.060      0.289      -1.463       0.436\n",
       "ar.L2          0.4776      0.482      0.991      0.322      -0.467       1.422\n",
       "ma.L1         -1.0024      0.474     -2.116      0.034      -1.931      -0.074\n",
       "ma.L2         -0.8536      0.241     -3.542      0.000      -1.326      -0.381\n",
       "ma.L3          1.0050      0.576      1.745      0.081      -0.124       2.134\n",
       "ma.L4         -0.1038      0.240     -0.433      0.665      -0.574       0.366\n",
       "ma.L5         -0.0178      0.130     -0.137      0.891      -0.272       0.237\n",
       "sigma2         0.0771      0.004     17.199      0.000       0.068       0.086\n",
       "===================================================================================\n",
       "Ljung-Box (L1) (Q):                   0.00   Jarque-Bera (JB):               125.98\n",
       "Prob(Q):                              0.96   Prob(JB):                         0.00\n",
       "Heteroskedasticity (H):               0.56   Skew:                             0.70\n",
       "Prob(H) (two-sided):                  0.00   Kurtosis:                         5.55\n",
       "===================================================================================\n",
       "\n",
       "Warnings:\n",
       "[1] Covariance matrix calculated using the outer product of gradients (complex-step).\n",
       "\"\"\""
      ]
     },
     "execution_count": 40,
     "metadata": {},
     "output_type": "execute_result"
    }
   ],
   "source": [
    "model_fits.summary()"
   ]
  },
  {
   "cell_type": "code",
   "execution_count": 41,
   "id": "15393b0b",
   "metadata": {},
   "outputs": [],
   "source": [
    "residuals = model_fits.resid"
   ]
  },
  {
   "cell_type": "code",
   "execution_count": 42,
   "id": "2d78efb2",
   "metadata": {},
   "outputs": [
    {
     "data": {
      "text/plain": [
       "<AxesSubplot:xlabel='Year-Month'>"
      ]
     },
     "execution_count": 42,
     "metadata": {},
     "output_type": "execute_result"
    },
    {
     "data": {
      "image/png": "[encoded data removed]",
      "text/plain": [
       "<Figure size 432x288 with 1 Axes>"
      ]
     },
     "metadata": {
      "needs_background": "light"
     },
     "output_type": "display_data"
    }
   ],
   "source": [
    "residuals.plot()"
   ]
  },
  {
   "cell_type": "code",
   "execution_count": 43,
   "id": "c0738b98",
   "metadata": {},
   "outputs": [],
   "source": [
    "output = model_fits.forecast(120)       #wants next 100periods"
   ]
  },
  {
   "cell_type": "code",
   "execution_count": 44,
   "id": "74560713",
   "metadata": {},
   "outputs": [
    {
     "data": {
      "text/plain": [
       "<matplotlib.legend.Legend at 0x17f0c0dba90>"
      ]
     },
     "execution_count": 44,
     "metadata": {},
     "output_type": "execute_result"
    },
    {
     "data": {
      "image/png": "[encoded data removed]",
      "text/plain": [
       "<Figure size 432x288 with 1 Axes>"
      ]
     },
     "metadata": {
      "needs_background": "light"
     },
     "output_type": "display_data"
    }
   ],
   "source": [
    "output.plot(color='green',title='Arima_predicted_value')\n",
    "plt.xlabel(\"Future Numbers\")\n",
    "plt.ylabel(\"predicted value\")\n",
    "plt.legend(['predict element'])"
   ]
  },
  {
   "cell_type": "code",
   "execution_count": 45,
   "id": "45fa172a",
   "metadata": {},
   "outputs": [
    {
     "data": {
      "text/plain": [
       "2020-01-01    61.695835\n",
       "2020-02-01    61.691336\n",
       "2020-03-01    61.705598\n",
       "2020-04-01    61.696731\n",
       "2020-05-01    61.708938\n",
       "                ...    \n",
       "2029-08-01    61.791644\n",
       "2029-09-01    61.797941\n",
       "2029-10-01    61.793305\n",
       "2029-11-01    61.799536\n",
       "2029-12-01    61.794965\n",
       "Freq: MS, Name: predicted_mean, Length: 120, dtype: float64"
      ]
     },
     "execution_count": 45,
     "metadata": {},
     "output_type": "execute_result"
    }
   ],
   "source": [
    "model_fits.forecast(120)"
   ]
  },
  {
   "cell_type": "markdown",
   "id": "e254cd2c",
   "metadata": {},
   "source": [
    "# Model-2: SARIMA(Seasonal Autoregressive integrated moving average)"
   ]
  },
  {
   "cell_type": "code",
   "execution_count": 56,
   "id": "ddbe468a",
   "metadata": {},
   "outputs": [],
   "source": [
    "from scipy import linalg\n",
    "from numpy.linalg import LinAlgError"
   ]
  },
  {
   "cell_type": "code",
   "execution_count": 66,
   "id": "f44d74b4",
   "metadata": {},
   "outputs": [],
   "source": [
    "ch.index = ch['YEAR']"
   ]
  },
  {
   "cell_type": "code",
   "execution_count": 57,
   "id": "46e5b687",
   "metadata": {},
   "outputs": [],
   "source": [
    "from statsmodels.tsa.statespace.sarimax import SARIMAX\n",
    "from statsmodels.tsa.seasonal import seasonal_decompose"
   ]
  },
  {
   "cell_type": "code",
   "execution_count": 61,
   "id": "2d274cd9",
   "metadata": {},
   "outputs": [],
   "source": [
    "result = seasonal_decompose(ch['VALUE'],model='additive',period=10)"
   ]
  },
  {
   "cell_type": "code",
   "execution_count": 59,
   "id": "80e004b6",
   "metadata": {},
   "outputs": [
    {
     "data": {
      "image/png": "[encoded data removed]",
      "text/plain": [
       "<Figure size 432x288 with 4 Axes>"
      ]
     },
     "execution_count": 59,
     "metadata": {},
     "output_type": "execute_result"
    },
    {
     "data": {
      "image/png": "[encoded data removed]",
      "text/plain": [
       "<Figure size 432x288 with 4 Axes>"
      ]
     },
     "metadata": {
      "needs_background": "light"
     },
     "output_type": "display_data"
    }
   ],
   "source": [
    "result.plot()"
   ]
  },
  {
   "cell_type": "code",
   "execution_count": 62,
   "id": "9b7bb705",
   "metadata": {},
   "outputs": [
    {
     "name": "stderr",
     "output_type": "stream",
     "text": [
      "C:\\Users\\arunk\\anaconda3\\lib\\site-packages\\statsmodels\\tsa\\base\\tsa_model.py:471: ValueWarning: An unsupported index was provided and will be ignored when e.g. forecasting.\n",
      "  self._init_dates(dates, freq)\n",
      "C:\\Users\\arunk\\anaconda3\\lib\\site-packages\\statsmodels\\tsa\\base\\tsa_model.py:471: ValueWarning: An unsupported index was provided and will be ignored when e.g. forecasting.\n",
      "  self._init_dates(dates, freq)\n"
     ]
    }
   ],
   "source": [
    "#using sarimax                          p d q                    p d q m \n",
    "sari_model = SARIMAX(ch['VALUE'],order=(2,2,5),seasonal_order = (1,1,1,10))            #p-lags d-differencing lags q-number of MA"
   ]
  },
  {
   "cell_type": "code",
   "execution_count": 63,
   "id": "2e9a33fd",
   "metadata": {},
   "outputs": [
    {
     "name": "stderr",
     "output_type": "stream",
     "text": [
      "C:\\Users\\arunk\\anaconda3\\lib\\site-packages\\statsmodels\\base\\model.py:604: ConvergenceWarning: Maximum Likelihood optimization failed to converge. Check mle_retvals\n",
      "  warnings.warn(\"Maximum Likelihood optimization failed to \"\n"
     ]
    }
   ],
   "source": [
    "model_fit = sari_model.fit()   "
   ]
  },
  {
   "cell_type": "code",
   "execution_count": 64,
   "id": "ccfcef94",
   "metadata": {},
   "outputs": [],
   "source": [
    "residual = model_fit.resid"
   ]
  },
  {
   "cell_type": "code",
   "execution_count": 76,
   "id": "25aa2606",
   "metadata": {},
   "outputs": [
    {
     "data": {
      "text/plain": [
       "Text(0, 0.5, 'Average Numbers')"
      ]
     },
     "execution_count": 76,
     "metadata": {},
     "output_type": "execute_result"
    },
    {
     "data": {
      "image/png": "[encoded data removed]",
      "text/plain": [
       "<Figure size 432x288 with 1 Axes>"
      ]
     },
     "metadata": {
      "needs_background": "light"
     },
     "output_type": "display_data"
    }
   ],
   "source": [
    "residual.plot()\n",
    "plt.xlabel(\"YEAR\")\n",
    "plt.ylabel(\"Average Numbers\")"
   ]
  },
  {
   "cell_type": "code",
   "execution_count": 77,
   "id": "a4af5300",
   "metadata": {},
   "outputs": [
    {
     "name": "stderr",
     "output_type": "stream",
     "text": [
      "C:\\Users\\arunk\\anaconda3\\lib\\site-packages\\statsmodels\\tsa\\base\\tsa_model.py:834: ValueWarning: No supported index is available. Prediction results will be given with an integer index beginning at `start`.\n",
      "  return get_prediction_index(\n"
     ]
    }
   ],
   "source": [
    "op = model_fit.forecast(120)"
   ]
  },
  {
   "cell_type": "code",
   "execution_count": 78,
   "id": "f5375696",
   "metadata": {},
   "outputs": [
    {
     "name": "stderr",
     "output_type": "stream",
     "text": [
      "C:\\Users\\arunk\\anaconda3\\lib\\site-packages\\statsmodels\\tsa\\base\\tsa_model.py:834: ValueWarning: No supported index is available. Prediction results will be given with an integer index beginning at `start`.\n",
      "  return get_prediction_index(\n"
     ]
    },
    {
     "data": {
      "text/plain": [
       "360    61.740776\n",
       "361    61.722072\n",
       "362    61.760208\n",
       "363    61.652852\n",
       "364    61.719927\n",
       "         ...    \n",
       "475    61.059044\n",
       "476    61.110031\n",
       "477    61.055502\n",
       "478    61.081550\n",
       "479    61.016078\n",
       "Name: predicted_mean, Length: 120, dtype: float64"
      ]
     },
     "execution_count": 78,
     "metadata": {},
     "output_type": "execute_result"
    }
   ],
   "source": [
    "model_fit.forecast(120)"
   ]
  },
  {
   "cell_type": "code",
   "execution_count": 79,
   "id": "5b7a9ccd",
   "metadata": {},
   "outputs": [],
   "source": [
    "#also find yhat\n",
    "yhat = model_fit.predict()"
   ]
  },
  {
   "cell_type": "code",
   "execution_count": 89,
   "id": "d62d830b",
   "metadata": {},
   "outputs": [
    {
     "data": {
      "text/plain": [
       "[<matplotlib.lines.Line2D at 0x1b35be76730>]"
      ]
     },
     "execution_count": 89,
     "metadata": {},
     "output_type": "execute_result"
    },
    {
     "data": {
      "image/png": "[encoded data removed]",
      "text/plain": [
       "<Figure size 432x288 with 1 Axes>"
      ]
     },
     "metadata": {
      "needs_background": "light"
     },
     "output_type": "display_data"
    }
   ],
   "source": [
    "plt.plot(ch['VALUE'])\n",
    "plt.plot(yhat,color='red')"
   ]
  },
  {
   "cell_type": "code",
   "execution_count": null,
   "id": "95bbb7b3",
   "metadata": {},
   "outputs": [],
   "source": []
  }
 ],
 "metadata": {
  "kernelspec": {
   "display_name": "Python 3 (ipykernel)",
   "language": "python",
   "name": "python3"
  },
  "language_info": {
   "codemirror_mode": {
    "name": "ipython",
    "version": 3
   },
   "file_extension": ".py",
   "mimetype": "text/x-python",
   "name": "python",
   "nbconvert_exporter": "python",
   "pygments_lexer": "ipython3",
   "version": "3.9.12"
  }
 },
 "nbformat": 4,
 "nbformat_minor": 5
}
